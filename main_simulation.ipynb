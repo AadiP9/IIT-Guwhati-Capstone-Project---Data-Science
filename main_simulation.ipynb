pip install pathway bokeh --quiet

import pathway as pw
import pandas as pd
import numpy as np
from bokeh.plotting import figure, show, output_notebook
from bokeh.io import push_notebook
from time import sleep
from IPython.display import display, clear_output
output_notebook()


from google.colab import files
uploaded = files.upload()

# Assume file is named dataset.csv
df = pd.read_csv("dataset.csv")
df.head()


# Model 1: Linear price model
def baseline_price(prev_price, occupancy, capacity, alpha=0.1):
    utilization = occupancy / capacity
    new_price = prev_price + alpha * utilization
    return max(5, min(20, new_price))


# Model 2: Demand-based pricing
def demand_function(occupancy, capacity, queue_length, traffic, is_special, vehicle_weight):
    alpha, beta, gamma, delta, epsilon = 0.6, 0.3, 0.2, 0.4, 0.1
    demand = (
        alpha * (occupancy / capacity) +
        beta * queue_length -
        gamma * traffic +
        delta * is_special +
        epsilon * vehicle_weight
    )
    return demand

def price_from_demand(base_price, demand, lambda_=0.2):
    demand_norm = np.clip(demand / 10, 0, 1)
    new_price = base_price * (1 + lambda_ * demand_norm)
    return round(min(max(new_price, base_price * 0.5), base_price * 2), 2)

def init_price_plot():
    p = figure(title="Real-Time Parking Prices", x_axis_label='Time Steps', y_axis_label='Price ($)', width=800, height=400)
    renderers = {}
    return p, renderers

def update_plot(p, renderers, step, price_dict):
    for lot_id, price in price_dict.items():
        if lot_id not in renderers:
            renderers[lot_id] = p.line(x=[step], y=[price], legend_label=f"Lot {lot_id}", line_width=2)
        else:
            renderer = renderers[lot_id]
            renderer.data_source.stream({'x': [step], 'y': [price]}, rollover=100)
    push_notebook()

# Configuration
lots = df['LotID'].unique()
prev_prices = {lot: 10 for lot in lots}  # base price

# Map vehicle types to weights
vehicle_weights = {'car': 1.0, 'bike': 0.8, 'truck': 1.2}

# Sort dataframe by timestamp if needed
df['timestamp'] = pd.to_datetime(df['timestamp'])
df.sort_values(by='timestamp', inplace=True)

# Start plotting
p, renderers = init_price_plot()
handle = show(p, notebook_handle=True)

step = 0
for t, group in df.groupby('timestamp'):
    price_dict = {}

    for _, row in group.iterrows():
        lot_id = row['LotID']
        prev_price = prev_prices[lot_id]

        occ = row['Occupancy']
        cap = row['Capacity']
        queue = row['QueueLength']
        traffic = row['Traffic']
        special = row['IsSpecialDay']
        vtype = row['VehicleType'].lower()
        weight = vehicle_weights.get(vtype, 1.0)

        # Toggle which model to use:
        model = 2  # 1 = baseline, 2 = demand

        if model == 1:
            price = baseline_price(prev_price, occ, cap)
        elif model == 2:
            demand = demand_function(occ, cap, queue, traffic, special, weight)
            price = price_from_demand(10, demand)

        prev_prices[lot_id] = price
        price_dict[lot_id] = price

    update_plot(p, renderers, step, price_dict)
    step += 1
    sleep(0.5)  # simulate streaming delay


# Save results if needed
output_df = pd.DataFrame([
    {'LotID': lot, 'FinalPrice': price}
    for lot, price in prev_prices.items()
])
output_df.to_csv("final_prices.csv", index=False)
files.download("final_prices.csv")
