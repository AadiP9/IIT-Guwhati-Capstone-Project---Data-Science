# 📦 Install required libraries
!pip install pathway bokeh --quiet

# 📚 Imports
import pandas as pd
import numpy as np
from bokeh.plotting import figure, show, output_notebook
from bokeh.io import push_notebook
from time import sleep
from IPython.display import display, clear_output
from google.colab import files
output_notebook()

# 📁 Load dataset
df = pd.read_csv("/content/dataset.csv")

# 🛡 Validate and rename columns if needed
df.columns = df.columns.str.strip()  # Remove accidental spaces

# First try to find the parking lot ID column by common names
lot_id_col = None
possible_lot_names = ['LotID', 'lot_id', 'ParkingLotID', 'parking_lot_id', 'lot', 'Lot', 'Parking Lot ID']
for col in possible_lot_names:
    if col in df.columns:
        lot_id_col = col
        break

if lot_id_col is None:
    # If none of the standard names are found, try to find a column that looks like an ID
    for col in df.columns:
        if 'id' in col.lower() or 'lot' in col.lower():
            lot_id_col = col
            break

if lot_id_col is None:
    # If still not found, use the first column as a fallback
    lot_id_col = df.columns[0]
    print(f"Warning: Using '{lot_id_col}' as the LotID column")

df.rename(columns={lot_id_col: 'LotID'}, inplace=True)

# ✅ Ensure all required columns are present with flexible naming
required_cols = {
    'Occupancy': ['Occupancy', 'occupancy', 'current_occupancy', 'cars_present'],
    'Capacity': ['Capacity', 'capacity', 'max_capacity', 'total_spots'],
    'QueueLength': ['QueueLength', 'queue_length', 'queue', 'waiting_cars'],
    'Traffic': ['Traffic', 'traffic', 'traffic_level', 'road_congestion'],
    'IsSpecialDay': ['IsSpecialDay', 'is_special_day', 'special_day', 'holiday'],
    'VehicleType': ['VehicleType', 'vehicle_type', 'type', 'vehicle_category'],
    'timestamp': ['timestamp', 'time', 'datetime', 'date_time', 'event_time']
}

# Rename columns to standard names
for standard_name, possible_names in required_cols.items():
    if standard_name not in df.columns:
        for name in possible_names:
            if name in df.columns:
                df.rename(columns={name: standard_name}, inplace=True)
                print(f"Renamed column '{name}' to '{standard_name}'")
                break

# Check if all required columns are present
missing_cols = [col for col in required_cols if col not in df.columns]
if missing_cols:
    print(f"Warning: Missing columns {missing_cols}. Using defaults where possible.")
    # Fill missing columns with defaults
    if 'QueueLength' not in df.columns:
        df['QueueLength'] = 0
    if 'Traffic' not in df.columns:
        df['Traffic'] = 1.0
    if 'IsSpecialDay' not in df.columns:
        df['IsSpecialDay'] = False
    if 'VehicleType' not in df.columns:
        df['VehicleType'] = 'car'
    if 'timestamp' not in df.columns:
        print("Creating synthetic timestamp index")
        df['timestamp'] = pd.date_range(start='2023-01-01', periods=len(df), freq='T')

# 🕒 Enhanced timestamp handling
if 'timestamp' not in df.columns:
    # Check if there's any datetime-like column we can use
    datetime_candidates = []
    for col in df.columns:
        if any(keyword in col.lower() for keyword in ['time', 'date', 'stamp']):
            datetime_candidates.append(col)
    
    if datetime_candidates:
        # Use the first candidate that can be converted to datetime
        for col in datetime_candidates:
            try:
                df['timestamp'] = pd.to_datetime(df[col])
                print(f"Using column '{col}' as timestamp")
                break
            except:
                continue
    
    # If still no timestamp, create one
    if 'timestamp' not in df.columns:
        print("Creating synthetic timestamp index")
        df['timestamp'] = pd.date_range(start='2023-01-01', periods=len(df), freq='T')

# Convert and sort timestamp
df['timestamp'] = pd.to_datetime(df['timestamp'])
df.sort_values(by='timestamp', inplace=True)

# 🧠 Pricing Models
def baseline_price(prev_price, occupancy, capacity, alpha=0.1):
    utilization = occupancy / capacity
    return max(5, min(20, prev_price + alpha * utilization))

def demand_function(occupancy, capacity, queue_length, traffic, is_special, vehicle_weight):
    alpha, beta, gamma, delta, epsilon = 0.6, 0.3, 0.2, 0.4, 0.1
    return (
        alpha * (occupancy / capacity) +
        beta * queue_length -
        gamma * traffic +
        delta * is_special +
        epsilon * vehicle_weight
    )

def price_from_demand(base_price, demand, lambda_=0.2):
    demand_norm = np.clip(demand / 10, 0, 1)
    return round(min(max(base_price * (1 + lambda_ * demand_norm), base_price * 0.5), base_price * 2), 2)

# 📊 Bokeh Plot Setup
def init_price_plot():
    p = figure(title="Real-Time Parking Prices", x_axis_label='Time Steps', y_axis_label='Price ($)', width=900, height=400)
    return p, {}

def update_plot(p, renderers, step, price_dict):
    for lot_id, price in price_dict.items():
        if lot_id not in renderers:
            renderers[lot_id] = p.line(x=[step], y=[price], legend_label=f"Lot {lot_id}", line_width=2)
        else:
            renderers[lot_id].data_source.stream({'x': [step], 'y': [price]}, rollover=100)
    push_notebook()

# 🚀 Real-Time Simulation
lots = df['LotID'].unique()
prev_prices = {lot: 10 for lot in lots}
vehicle_weights = {'car': 1.0, 'bike': 0.8, 'truck': 1.2}
model = 2  # 1 for baseline, 2 for demand-based
stream_speed = 0.3  # Seconds between updates

p, renderers = init_price_plot()
handle = show(p, notebook_handle=True)

step = 0
for t, group in df.groupby('timestamp'):
    price_dict = {}

    for _, row in group.iterrows():
        lot_id = row['LotID']
        prev_price = prev_prices.get(lot_id, 10)

        occ = row['Occupancy']
        cap = row['Capacity']
        queue = row.get('QueueLength', 0)
        traffic = row.get('Traffic', 1.0)
        special = row.get('IsSpecialDay', False)
        vtype = str(row.get('VehicleType', 'car')).strip().lower()
        weight = vehicle_weights.get(vtype, 1.0)

        if model == 1:
            price = baseline_price(prev_price, occ, cap)
        elif model == 2:
            demand = demand_function(occ, cap, queue, traffic, special, weight)
            price = price_from_demand(10, demand)

        prev_prices[lot_id] = price
        price_dict[lot_id] = price

    update_plot(p, renderers, step, price_dict)
    step += 1
    sleep(stream_speed)

# 💾 Export Final Prices
output_df = pd.DataFrame([{'LotID': lot, 'FinalPrice': price} for lot, price in prev_prices.items()])
output_df.to_csv("final_prices.csv", index=False)
files.download("final_prices.csv")
